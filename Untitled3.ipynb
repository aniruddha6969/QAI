{
 "cells": [
  {
   "cell_type": "code",
   "execution_count": 1,
   "id": "5cdcb84b",
   "metadata": {},
   "outputs": [
    {
     "name": "stdout",
     "output_type": "stream",
     "text": [
      "Defaulting to user installation because normal site-packages is not writeable\n",
      "Requirement already satisfied: qiskit in c:\\users\\aniruddha kulkarni\\appdata\\roaming\\python\\python310\\site-packages (0.44.2)\n",
      "Requirement already satisfied: qiskit-terra==0.25.2.1 in c:\\users\\aniruddha kulkarni\\appdata\\roaming\\python\\python310\\site-packages (from qiskit) (0.25.2.1)\n",
      "Requirement already satisfied: scipy>=1.5 in d:\\anaconda\\lib\\site-packages (from qiskit-terra==0.25.2.1->qiskit) (1.10.0)\n",
      "Requirement already satisfied: psutil>=5 in c:\\users\\aniruddha kulkarni\\appdata\\roaming\\python\\python310\\site-packages (from qiskit-terra==0.25.2.1->qiskit) (5.9.4)\n",
      "Requirement already satisfied: python-dateutil>=2.8.0 in c:\\users\\aniruddha kulkarni\\appdata\\roaming\\python\\python310\\site-packages (from qiskit-terra==0.25.2.1->qiskit) (2.8.2)\n",
      "Requirement already satisfied: rustworkx>=0.13.0 in c:\\users\\aniruddha kulkarni\\appdata\\roaming\\python\\python310\\site-packages (from qiskit-terra==0.25.2.1->qiskit) (0.13.2)\n",
      "Requirement already satisfied: stevedore>=3.0.0 in c:\\users\\aniruddha kulkarni\\appdata\\roaming\\python\\python310\\site-packages (from qiskit-terra==0.25.2.1->qiskit) (5.1.0)\n",
      "Requirement already satisfied: dill>=0.3 in d:\\anaconda\\lib\\site-packages (from qiskit-terra==0.25.2.1->qiskit) (0.3.6)\n",
      "Requirement already satisfied: sympy>=1.3 in d:\\anaconda\\lib\\site-packages (from qiskit-terra==0.25.2.1->qiskit) (1.11.1)\n",
      "Requirement already satisfied: numpy>=1.17 in c:\\users\\aniruddha kulkarni\\appdata\\roaming\\python\\python310\\site-packages (from qiskit-terra==0.25.2.1->qiskit) (1.22.2)\n",
      "Requirement already satisfied: typing-extensions in d:\\anaconda\\lib\\site-packages (from qiskit-terra==0.25.2.1->qiskit) (4.4.0)\n",
      "Requirement already satisfied: ply>=3.10 in d:\\anaconda\\lib\\site-packages (from qiskit-terra==0.25.2.1->qiskit) (3.11)\n",
      "Requirement already satisfied: six>=1.5 in c:\\users\\aniruddha kulkarni\\appdata\\roaming\\python\\python310\\site-packages (from python-dateutil>=2.8.0->qiskit-terra==0.25.2.1->qiskit) (1.16.0)\n",
      "Requirement already satisfied: pbr!=2.1.0,>=2.0.0 in c:\\users\\aniruddha kulkarni\\appdata\\roaming\\python\\python310\\site-packages (from stevedore>=3.0.0->qiskit-terra==0.25.2.1->qiskit) (5.11.1)\n",
      "Requirement already satisfied: mpmath>=0.19 in d:\\anaconda\\lib\\site-packages (from sympy>=1.3->qiskit-terra==0.25.2.1->qiskit) (1.2.1)\n",
      "Note: you may need to restart the kernel to use updated packages.\n"
     ]
    }
   ],
   "source": [
    "pip install qiskit\n"
   ]
  },
  {
   "cell_type": "code",
   "execution_count": 2,
   "id": "f802dfd1",
   "metadata": {},
   "outputs": [
    {
     "name": "stdout",
     "output_type": "stream",
     "text": [
      "Defaulting to user installation because normal site-packages is not writeable\n",
      "Requirement already satisfied: qiskit-ibmq-provider in c:\\users\\aniruddha kulkarni\\appdata\\roaming\\python\\python310\\site-packages (0.20.2)\n",
      "Requirement already satisfied: urllib3>=1.21.1 in c:\\users\\aniruddha kulkarni\\appdata\\roaming\\python\\python310\\site-packages (from qiskit-ibmq-provider) (1.26.13)\n",
      "Requirement already satisfied: numpy<1.24 in c:\\users\\aniruddha kulkarni\\appdata\\roaming\\python\\python310\\site-packages (from qiskit-ibmq-provider) (1.22.2)\n",
      "Requirement already satisfied: qiskit-terra>=0.18.0 in c:\\users\\aniruddha kulkarni\\appdata\\roaming\\python\\python310\\site-packages (from qiskit-ibmq-provider) (0.25.2.1)\n",
      "Requirement already satisfied: python-dateutil>=2.8.0 in c:\\users\\aniruddha kulkarni\\appdata\\roaming\\python\\python310\\site-packages (from qiskit-ibmq-provider) (2.8.2)\n",
      "Requirement already satisfied: websockets>=10.0 in c:\\users\\aniruddha kulkarni\\appdata\\roaming\\python\\python310\\site-packages (from qiskit-ibmq-provider) (12.0)\n",
      "Requirement already satisfied: requests>=2.19 in c:\\users\\aniruddha kulkarni\\appdata\\roaming\\python\\python310\\site-packages (from qiskit-ibmq-provider) (2.28.1)\n",
      "Requirement already satisfied: requests-ntlm<=1.1.0 in c:\\users\\aniruddha kulkarni\\appdata\\roaming\\python\\python310\\site-packages (from qiskit-ibmq-provider) (1.1.0)\n",
      "Requirement already satisfied: websocket-client>=1.5.1 in c:\\users\\aniruddha kulkarni\\appdata\\roaming\\python\\python310\\site-packages (from qiskit-ibmq-provider) (1.6.4)\n",
      "Requirement already satisfied: six>=1.5 in c:\\users\\aniruddha kulkarni\\appdata\\roaming\\python\\python310\\site-packages (from python-dateutil>=2.8.0->qiskit-ibmq-provider) (1.16.0)\n",
      "Requirement already satisfied: rustworkx>=0.13.0 in c:\\users\\aniruddha kulkarni\\appdata\\roaming\\python\\python310\\site-packages (from qiskit-terra>=0.18.0->qiskit-ibmq-provider) (0.13.2)\n",
      "Requirement already satisfied: scipy>=1.5 in d:\\anaconda\\lib\\site-packages (from qiskit-terra>=0.18.0->qiskit-ibmq-provider) (1.10.0)\n",
      "Requirement already satisfied: typing-extensions in d:\\anaconda\\lib\\site-packages (from qiskit-terra>=0.18.0->qiskit-ibmq-provider) (4.4.0)\n",
      "Requirement already satisfied: ply>=3.10 in d:\\anaconda\\lib\\site-packages (from qiskit-terra>=0.18.0->qiskit-ibmq-provider) (3.11)\n",
      "Requirement already satisfied: sympy>=1.3 in d:\\anaconda\\lib\\site-packages (from qiskit-terra>=0.18.0->qiskit-ibmq-provider) (1.11.1)\n",
      "Requirement already satisfied: psutil>=5 in c:\\users\\aniruddha kulkarni\\appdata\\roaming\\python\\python310\\site-packages (from qiskit-terra>=0.18.0->qiskit-ibmq-provider) (5.9.4)\n",
      "Requirement already satisfied: stevedore>=3.0.0 in c:\\users\\aniruddha kulkarni\\appdata\\roaming\\python\\python310\\site-packages (from qiskit-terra>=0.18.0->qiskit-ibmq-provider) (5.1.0)\n",
      "Requirement already satisfied: dill>=0.3 in d:\\anaconda\\lib\\site-packages (from qiskit-terra>=0.18.0->qiskit-ibmq-provider) (0.3.6)\n",
      "Requirement already satisfied: certifi>=2017.4.17 in c:\\users\\aniruddha kulkarni\\appdata\\roaming\\python\\python310\\site-packages (from requests>=2.19->qiskit-ibmq-provider) (2022.12.7)\n",
      "Requirement already satisfied: idna<4,>=2.5 in c:\\users\\aniruddha kulkarni\\appdata\\roaming\\python\\python310\\site-packages (from requests>=2.19->qiskit-ibmq-provider) (3.4)\n",
      "Requirement already satisfied: charset-normalizer<3,>=2 in c:\\users\\aniruddha kulkarni\\appdata\\roaming\\python\\python310\\site-packages (from requests>=2.19->qiskit-ibmq-provider) (2.1.1)\n",
      "Requirement already satisfied: cryptography>=1.3 in d:\\anaconda\\lib\\site-packages (from requests-ntlm<=1.1.0->qiskit-ibmq-provider) (39.0.1)\n",
      "Requirement already satisfied: ntlm-auth>=1.0.2 in c:\\users\\aniruddha kulkarni\\appdata\\roaming\\python\\python310\\site-packages (from requests-ntlm<=1.1.0->qiskit-ibmq-provider) (1.5.0)\n",
      "Requirement already satisfied: cffi>=1.12 in c:\\users\\aniruddha kulkarni\\appdata\\roaming\\python\\python310\\site-packages (from cryptography>=1.3->requests-ntlm<=1.1.0->qiskit-ibmq-provider) (1.15.1)\n",
      "Requirement already satisfied: pbr!=2.1.0,>=2.0.0 in c:\\users\\aniruddha kulkarni\\appdata\\roaming\\python\\python310\\site-packages (from stevedore>=3.0.0->qiskit-terra>=0.18.0->qiskit-ibmq-provider) (5.11.1)\n",
      "Requirement already satisfied: mpmath>=0.19 in d:\\anaconda\\lib\\site-packages (from sympy>=1.3->qiskit-terra>=0.18.0->qiskit-ibmq-provider) (1.2.1)\n",
      "Requirement already satisfied: pycparser in c:\\users\\aniruddha kulkarni\\appdata\\roaming\\python\\python310\\site-packages (from cffi>=1.12->cryptography>=1.3->requests-ntlm<=1.1.0->qiskit-ibmq-provider) (2.21)\n",
      "Note: you may need to restart the kernel to use updated packages.\n"
     ]
    }
   ],
   "source": [
    "pip install qiskit-ibmq-provider"
   ]
  },
  {
   "cell_type": "code",
   "execution_count": 3,
   "id": "5a5fdfba",
   "metadata": {},
   "outputs": [
    {
     "name": "stderr",
     "output_type": "stream",
     "text": [
      "C:\\Users\\Aniruddha Kulkarni\\AppData\\Local\\Temp\\ipykernel_11836\\2060521150.py:4: DeprecationWarning: The package qiskit.providers.ibmq is being deprecated. Please see https://ibm.biz/provider_migration_guide to get instructions on how to migrate to qiskit-ibm-provider (https://github.com/Qiskit/qiskit-ibm-provider) and qiskit-ibm-runtime (https://github.com/Qiskit/qiskit-ibm-runtime).\n",
      "  IBMQ.save_account('d48b067e8c8427261a845c05b2902570b049402c758137d9ce4056d3b2177bb68e98d3c7210678543d33d325684e335f0eb2dc725980d19f0d2b535a5c295fbd', overwrite=True)\n",
      "C:\\Users\\Aniruddha Kulkarni\\AppData\\Local\\Temp\\ipykernel_11836\\2060521150.py:4: DeprecationWarning: The qiskit.IBMQ entrypoint and the qiskit-ibmq-provider package (accessible from 'qiskit.providers.ibmq`) are deprecated and will be removed in a future release. Instead you should use the qiskit-ibm-provider package which is accessible from 'qiskit_ibm_provider'. You can install it with 'pip install qiskit_ibm_provider'. Just replace 'qiskit.IBMQ' with 'qiskit_ibm_provider.IBMProvider'\n",
      "  IBMQ.save_account('d48b067e8c8427261a845c05b2902570b049402c758137d9ce4056d3b2177bb68e98d3c7210678543d33d325684e335f0eb2dc725980d19f0d2b535a5c295fbd', overwrite=True)\n"
     ]
    },
    {
     "data": {
      "text/plain": [
       "<AccountProvider for IBMQ(hub='ibm-q', group='open', project='main')>"
      ]
     },
     "execution_count": 3,
     "metadata": {},
     "output_type": "execute_result"
    }
   ],
   "source": [
    "from qiskit import IBMQ\n",
    "\n",
    "# Set your IBMQ account credentials using the API token\n",
    "IBMQ.save_account('d48b067e8c8427261a845c05b2902570b049402c758137d9ce4056d3b2177bb68e98d3c7210678543d33d325684e335f0eb2dc725980d19f0d2b535a5c295fbd', overwrite=True)\n",
    "\n",
    "# Load your IBMQ account\n",
    "IBMQ.load_account()\n"
   ]
  },
  {
   "cell_type": "code",
   "execution_count": 4,
   "id": "87bea5bf",
   "metadata": {},
   "outputs": [
    {
     "name": "stderr",
     "output_type": "stream",
     "text": [
      "ibmqfactory.load_account:WARNING:2023-10-25 09:44:19,888: Credentials are already in use. The existing account in the session will be replaced.\n"
     ]
    },
    {
     "name": "stdout",
     "output_type": "stream",
     "text": [
      "Hub name: ibm-q\n"
     ]
    }
   ],
   "source": [
    "#USE THIS CODE IF THE CODE IS GIVING ERROR OF HUB NAME THIS CODE WILL SHOW THE HUB NAME THE USE THAT HUB NAME\n",
    "\n",
    "\n",
    "from qiskit import IBMQ\n",
    "\n",
    "# Load IBM Quantum Experience account\n",
    "IBMQ.load_account()\n",
    "\n",
    "# Get the provider\n",
    "provider = IBMQ.get_provider()\n",
    "\n",
    "# Get the hub name\n",
    "hub_name = provider.credentials.hub\n",
    "\n",
    "# Print the hub name\n",
    "print(\"Hub name:\", hub_name)"
   ]
  },
  {
   "cell_type": "code",
   "execution_count": null,
   "id": "1c10a200",
   "metadata": {},
   "outputs": [
    {
     "name": "stdout",
     "output_type": "stream",
     "text": [
      "     ┌───┐┌──────┐┌─┐            \n",
      "q_0: ┤ X ├┤0     ├┤M├────────────\n",
      "     └───┘│      │└╥┘┌─┐         \n",
      "q_1: ─────┤1     ├─╫─┤M├─────────\n",
      "     ┌───┐│      │ ║ └╥┘┌─┐      \n",
      "q_2: ┤ X ├┤2 qft ├─╫──╫─┤M├──────\n",
      "     └───┘│      │ ║  ║ └╥┘┌─┐   \n",
      "q_3: ─────┤3     ├─╫──╫──╫─┤M├───\n",
      "     ┌───┐│      │ ║  ║  ║ └╥┘┌─┐\n",
      "q_4: ┤ X ├┤4     ├─╫──╫──╫──╫─┤M├\n",
      "     └───┘└──────┘ ║  ║  ║  ║ └╥┘\n",
      "c: 5/══════════════╩══╩══╩══╩══╩═\n",
      "                   0  1  2  3  4 \n",
      "Job Status: job has successfully run\n",
      "\n",
      " QFT Output\n",
      "-------------\n",
      "{'00111': 28, '01100': 29, '11011': 28, '11010': 22, '00100': 22, '00011': 38, '01010': 28, '10001': 26, '00110': 26, '10110': 33, '11111': 31, '10010': 25, '01000': 35, '01110': 30, '01111': 33, '11001': 40, '01011': 35, '00000': 44, '00010': 33, '11101': 21, '10100': 27, '11100': 32, '11110': 36, '10011': 43, '00001': 31, '01101': 29, '11000': 28, '10111': 24, '01001': 46, '00101': 28, '10000': 40, '10101': 29}\n"
     ]
    }
   ],
   "source": [
    "from qiskit import QuantumRegister, ClassicalRegister\n",
    "from qiskit import QuantumCircuit, execute,IBMQ\n",
    "from qiskit.tools.monitor import job_monitor\n",
    "from qiskit.circuit.library import QFT\n",
    "import numpy as np\n",
    "\n",
    "pi = np.pi\n",
    "\n",
    "\n",
    "provider = IBMQ.get_provider(hub='ibm-q')\n",
    "\n",
    "backend = provider.get_backend('ibmq_qasm_simulator')\n",
    "\n",
    "q = QuantumRegister(5,'q')\n",
    "c = ClassicalRegister(5,'c')\n",
    "\n",
    "circuit = QuantumCircuit(q,c)\n",
    "\n",
    "circuit.x(q[4])\n",
    "circuit.x(q[2])\n",
    "circuit.x(q[0])\n",
    "circuit.append(QFT(num_qubits=5, approximation_degree=0, do_swaps=True, inverse=False, insert_barriers=False, name='qft'), q)\n",
    "circuit.measure(q,c)\n",
    "circuit.draw(output='mpl', filename='qft1.png')\n",
    "print(circuit)\n",
    "\n",
    "job = execute(circuit, backend, shots=1000)\n",
    "\n",
    "job_monitor(job)\n",
    "\n",
    "counts = job.result().get_counts()\n",
    "\n",
    "print(\"\\n QFT Output\")\n",
    "print(\"-------------\")\n",
    "print(counts)\n",
    "input()\n",
    "\n",
    "q = QuantumRegister(5,'q')\n",
    "c = ClassicalRegister(5,'c')\n",
    "\n",
    "circuit = QuantumCircuit(q,c)\n",
    "\n",
    "circuit.x(q[4])\n",
    "circuit.x(q[2])\n",
    "circuit.x(q[0])\n",
    "circuit.append(QFT(num_qubits=5, approximation_degree=0, do_swaps=True, inverse=False, insert_barriers=False, name='qft'), q)\n",
    "circuit.measure(q,c)\n",
    "circuit.draw(output='mpl',filename='qft2.png')\n",
    "\n",
    "print(circuit)\n",
    "\n",
    "job = execute(circuit, backend, shots=1000)\n",
    "\n",
    "job_monitor(job)\n",
    "\n",
    "counts = job.result().get_counts()\n",
    "\n",
    "print(\"\\n QFT with inverse QFT Output\")\n",
    "print(\"------------------------------\")\n",
    "print(counts)\n",
    "input()"
   ]
  },
  {
   "cell_type": "code",
   "execution_count": null,
   "id": "b7ed80f7",
   "metadata": {},
   "outputs": [],
   "source": []
  }
 ],
 "metadata": {
  "kernelspec": {
   "display_name": "Python 3 (ipykernel)",
   "language": "python",
   "name": "python3"
  },
  "language_info": {
   "codemirror_mode": {
    "name": "ipython",
    "version": 3
   },
   "file_extension": ".py",
   "mimetype": "text/x-python",
   "name": "python",
   "nbconvert_exporter": "python",
   "pygments_lexer": "ipython3",
   "version": "3.10.9"
  }
 },
 "nbformat": 4,
 "nbformat_minor": 5
}
